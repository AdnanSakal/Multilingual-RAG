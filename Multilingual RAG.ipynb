{
 "cells": [
  {
   "cell_type": "code",
   "execution_count": null,
   "id": "153dafd6-b798-4b0b-ab14-ddc5620cdde2",
   "metadata": {
    "scrolled": true
   },
   "outputs": [],
   "source": [
    "from pdf2image import convert_from_path\n",
    "import pytesseract\n",
    "\n",
    "images = convert_from_path(\"HSC26-Bangla1st-Paper.pdf\",dpi = 200)\n",
    "bangla_text = []\n",
    "\n",
    "for img in images:\n",
    "    text = pytesseract.image_to_string(img, lang='ben')\n",
    "    bangla_text.append(text)\n",
    "\n",
    "print(\"\\n\".join(bangla_text))\n"
   ]
  },
  {
   "cell_type": "code",
   "execution_count": null,
   "id": "61771050-4482-4f66-ba3f-03a78bccd000",
   "metadata": {
    "scrolled": true
   },
   "outputs": [],
   "source": [
    "text = bangla_text[5:19]\n",
    "for i in text:\n",
    "    print(i)"
   ]
  },
  {
   "cell_type": "code",
   "execution_count": 3,
   "id": "6fa02232-5a61-4172-bc3c-9e1896fe082e",
   "metadata": {},
   "outputs": [],
   "source": [
    "from langchain_community.vectorstores import Chroma\n",
    "from langchain.text_splitter import RecursiveCharacterTextSplitter\n",
    "from langchain.vectorstores import Chroma\n",
    "from langchain.embeddings import OllamaEmbeddings\n",
    "from langchain.schema import Document\n",
    "from langchain_core.prompts import ChatPromptTemplate\n",
    "from langchain_core.runnables import RunnablePassthrough\n",
    "from langchain_ollama import ChatOllama"
   ]
  },
  {
   "cell_type": "code",
   "execution_count": 4,
   "id": "be1b684b-8462-42f5-b6fc-7de58485f36a",
   "metadata": {},
   "outputs": [],
   "source": [
    "llm_model = ChatOllama(model = \"llama3.2\",temperature = 0)"
   ]
  },
  {
   "cell_type": "code",
   "execution_count": 5,
   "id": "96a9e07b-6e41-4154-9310-04ba889a470e",
   "metadata": {},
   "outputs": [],
   "source": [
    "doc_text = [Document(i) for i in text]"
   ]
  },
  {
   "cell_type": "code",
   "execution_count": 11,
   "id": "a43613e9-68eb-4df9-8454-d313eea2e895",
   "metadata": {},
   "outputs": [],
   "source": [
    "embeddings = OllamaEmbeddings(model = \"nomic-embed-text\")"
   ]
  },
  {
   "cell_type": "code",
   "execution_count": 12,
   "id": "7ec4608d-7b59-4b27-bd40-6d301b45ed72",
   "metadata": {},
   "outputs": [],
   "source": [
    "rec_obj = RecursiveCharacterTextSplitter(chunk_size= 300,chunk_overlap = 100)"
   ]
  },
  {
   "cell_type": "code",
   "execution_count": 13,
   "id": "766fa10e-f497-402f-8fee-d44fd56ed689",
   "metadata": {},
   "outputs": [],
   "source": [
    "rec_text = rec_obj.split_documents(doc_text)"
   ]
  },
  {
   "cell_type": "code",
   "execution_count": 14,
   "id": "fe0b406e-936c-42ef-8061-abdfebe671bc",
   "metadata": {},
   "outputs": [
    {
     "data": {
      "text/plain": [
       "164"
      ]
     },
     "execution_count": 14,
     "metadata": {},
     "output_type": "execute_result"
    }
   ],
   "source": [
    "len(rec_text)"
   ]
  },
  {
   "cell_type": "code",
   "execution_count": 15,
   "id": "8e4e07d9-15a1-4e12-bef7-f1bc1e238cd3",
   "metadata": {},
   "outputs": [],
   "source": [
    "cm = Chroma.from_documents(rec_text,embedding = embeddings)"
   ]
  },
  {
   "cell_type": "code",
   "execution_count": 16,
   "id": "597fba16-7e85-482b-9502-9cfb8af2363d",
   "metadata": {},
   "outputs": [],
   "source": [
    "db = cm.as_retriever()"
   ]
  },
  {
   "cell_type": "code",
   "execution_count": 18,
   "id": "8b3341e5-11ea-4f95-889b-ab86a3122782",
   "metadata": {},
   "outputs": [],
   "source": [
    "def add_doc(docs):\n",
    "    return \"\\n\".join([i.page_content for i in docs])"
   ]
  },
  {
   "cell_type": "code",
   "execution_count": 19,
   "id": "0338cdb2-e8c1-4f8f-857d-96fa929158e4",
   "metadata": {},
   "outputs": [],
   "source": [
    "\n",
    "chat_template = \"\"\"\n",
    "You are a multilingual assistant that answers questions based on provided story context. \n",
    "\n",
    "Context:{context}\n",
    "Question: {question}\n",
    "\"\"\"\n",
    "chat_prompt = ChatPromptTemplate.from_template(chat_template)\n",
    "\n",
    "\n",
    "chain = {\"context\":db|add_doc,\"question\":RunnablePassthrough()}|chat_prompt|llm_model\n"
   ]
  },
  {
   "cell_type": "code",
   "execution_count": 20,
   "id": "5a87e9f9-b938-4015-9d0d-91f25df70776",
   "metadata": {},
   "outputs": [
    {
     "data": {
      "text/plain": [
       "'অনুপম হলেন গল্পের কথক।'"
      ]
     },
     "execution_count": 20,
     "metadata": {},
     "output_type": "execute_result"
    }
   ],
   "source": [
    "chain.invoke(\"who is onupom?\").content "
   ]
  },
  {
   "cell_type": "code",
   "execution_count": 22,
   "id": "3d9ab875-462d-4a98-b740-337d21a060e9",
   "metadata": {},
   "outputs": [
    {
     "data": {
      "text/plain": [
       "'শস্তুনাথ'"
      ]
     },
     "execution_count": 22,
     "metadata": {},
     "output_type": "execute_result"
    }
   ],
   "source": [
    "chain.invoke(\"অনুপমের ভাষায় সুপুরুষ কাকে বলা হয়েছে?\").content"
   ]
  }
 ],
 "metadata": {
  "kernelspec": {
   "display_name": "Python 3 (ipykernel)",
   "language": "python",
   "name": "python3"
  },
  "language_info": {
   "codemirror_mode": {
    "name": "ipython",
    "version": 3
   },
   "file_extension": ".py",
   "mimetype": "text/x-python",
   "name": "python",
   "nbconvert_exporter": "python",
   "pygments_lexer": "ipython3",
   "version": "3.12.7"
  }
 },
 "nbformat": 4,
 "nbformat_minor": 5
}
